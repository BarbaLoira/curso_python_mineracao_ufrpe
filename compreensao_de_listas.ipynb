{
  "nbformat": 4,
  "nbformat_minor": 0,
  "metadata": {
    "colab": {
      "name": "compreensao_de_listas.ipynb",
      "version": "0.3.2",
      "provenance": [],
      "include_colab_link": true
    },
    "kernelspec": {
      "name": "python3",
      "display_name": "Python 3"
    },
    "accelerator": "GPU"
  },
  "cells": [
    {
      "cell_type": "markdown",
      "metadata": {
        "id": "view-in-github",
        "colab_type": "text"
      },
      "source": [
        "<a href=\"https://colab.research.google.com/github/BarbaLoira/curso_python_mineracao_ufrpe/blob/master/compreensao_de_listas.ipynb\" target=\"_parent\"><img src=\"https://colab.research.google.com/assets/colab-badge.svg\" alt=\"Open In Colab\"/></a>"
      ]
    },
    {
      "metadata": {
        "id": "piLuxVi5OH81",
        "colab_type": "code",
        "colab": {}
      },
      "cell_type": "code",
      "source": [
        ""
      ],
      "execution_count": 0,
      "outputs": []
    },
    {
      "metadata": {
        "id": "69cl9F-zQMUX",
        "colab_type": "text"
      },
      "cell_type": "markdown",
      "source": [
        "**Exercício (lista)**\n",
        "1. Faça um Programa que baseado no exemplo anterior, exiba uma lista de números\n",
        "ímpares.\n",
        "2. Faça um Programa que leia um vetor de 10 números e mostre-os na ordem inversa.\n",
        "3. Faça um Programa que leia 4 notas, mostre as notas e a média na tela.\n",
        "4. Faça um Programa que dada as quatro notas de X aluno, imprima o número de alunos\n",
        "com média maior ou igual a 7.0.\n",
        "5. Escreva uma função chamada middle que receba uma lista e retorne uma nova lista com\n",
        "todos os elementos originais, exceto os primeiros e os últimos elementos.\n"
      ]
    },
    {
      "metadata": {
        "id": "vDa7if2jSFFZ",
        "colab_type": "text"
      },
      "cell_type": "markdown",
      "source": [
        "**1)**"
      ]
    },
    {
      "metadata": {
        "id": "i-49kyEtQSGB",
        "colab_type": "code",
        "colab": {
          "base_uri": "https://localhost:8080/",
          "height": 34
        },
        "outputId": "f43ac656-c1df-49ea-adc0-c0975e904b01"
      },
      "cell_type": "code",
      "source": [
        "[i for i in range(10) if i%2!=0]"
      ],
      "execution_count": 1,
      "outputs": [
        {
          "output_type": "execute_result",
          "data": {
            "text/plain": [
              "[1, 3, 5, 7, 9]"
            ]
          },
          "metadata": {
            "tags": []
          },
          "execution_count": 1
        }
      ]
    },
    {
      "metadata": {
        "id": "34AgrzCsSJmU",
        "colab_type": "text"
      },
      "cell_type": "markdown",
      "source": [
        "**2)**"
      ]
    },
    {
      "metadata": {
        "id": "AtUY9pUiQgsS",
        "colab_type": "code",
        "colab": {
          "base_uri": "https://localhost:8080/",
          "height": 34
        },
        "outputId": "3ec333a3-a59a-4b80-b913-ebc59bb97a40"
      },
      "cell_type": "code",
      "source": [
        "x = [i for i in range(10)]\n",
        "x.reverse();\n",
        "print (\"list :\",x); "
      ],
      "execution_count": 34,
      "outputs": [
        {
          "output_type": "stream",
          "text": [
            "list : [9, 8, 7, 6, 5, 4, 3, 2, 1, 0]\n"
          ],
          "name": "stdout"
        }
      ]
    },
    {
      "metadata": {
        "id": "W5wns9vwSPD2",
        "colab_type": "text"
      },
      "cell_type": "markdown",
      "source": [
        "**3)**"
      ]
    },
    {
      "metadata": {
        "id": "MEpFDs2WQvyu",
        "colab_type": "code",
        "colab": {
          "base_uri": "https://localhost:8080/",
          "height": 102
        },
        "outputId": "7fe6c14d-ec73-4c9a-e407-53cc43782154"
      },
      "cell_type": "code",
      "source": [
        " r = []\n",
        " while len(r)< 4:\n",
        "    r.append(int(input(\"Nota:\")))\n",
        "print(\"Media :\",(sum(r)/4))"
      ],
      "execution_count": 45,
      "outputs": [
        {
          "output_type": "stream",
          "text": [
            "Nota:3\n",
            "Nota:2\n",
            "Nota:5\n",
            "Nota:3\n",
            "Media : 3.25\n"
          ],
          "name": "stdout"
        }
      ]
    },
    {
      "metadata": {
        "id": "Pr57Ok4jXex4",
        "colab_type": "text"
      },
      "cell_type": "markdown",
      "source": [
        "**4)**\n"
      ]
    },
    {
      "metadata": {
        "id": "SPfYaaRfXhxh",
        "colab_type": "code",
        "colab": {
          "base_uri": "https://localhost:8080/",
          "height": 34
        },
        "outputId": "13d480fe-fe22-466e-8234-ed5e78c3d797"
      },
      "cell_type": "code",
      "source": [
        "from random import randint\n",
        "alunos = []\n",
        "\n",
        "while len(alunos)< 10:\n",
        "  r = []\n",
        "  while len(r)< 4:\n",
        "    r.append(randint(0,10))\n",
        "  alunos.append(r)  \n",
        "[i for i in range(10) if (sum(alunos[i])/4) >= 7]  "
      ],
      "execution_count": 73,
      "outputs": [
        {
          "output_type": "execute_result",
          "data": {
            "text/plain": [
              "[4, 5]"
            ]
          },
          "metadata": {
            "tags": []
          },
          "execution_count": 73
        }
      ]
    },
    {
      "metadata": {
        "id": "kn8E9a6LcidD",
        "colab_type": "text"
      },
      "cell_type": "markdown",
      "source": [
        "**5)**"
      ]
    },
    {
      "metadata": {
        "id": "GGS_KBMuckB8",
        "colab_type": "code",
        "colab": {
          "base_uri": "https://localhost:8080/",
          "height": 34
        },
        "outputId": "4b411973-3cf3-4c7b-ccfe-3c2931dcf44e"
      },
      "cell_type": "code",
      "source": [
        "def middle(*param):\n",
        "   return   param[ slice(1, len(param)-1) ]\n",
        "\n",
        "list = [1,2,7,5,3,2,9,6,7,4]\n",
        "middle(*list)"
      ],
      "execution_count": 93,
      "outputs": [
        {
          "output_type": "execute_result",
          "data": {
            "text/plain": [
              "(2, 7, 5, 3, 2, 9, 6, 7)"
            ]
          },
          "metadata": {
            "tags": []
          },
          "execution_count": 93
        }
      ]
    }
  ]
}